{
 "cells": [
  {
   "cell_type": "markdown",
   "id": "53581779",
   "metadata": {},
   "source": [
    "# Setup and Load Dependencies "
   ]
  },
  {
   "cell_type": "code",
   "execution_count": 2,
   "id": "31219729",
   "metadata": {},
   "outputs": [],
   "source": [
    "import tensorflow as tf\n",
    "import os"
   ]
  },
  {
   "cell_type": "code",
   "execution_count": 3,
   "id": "511a6bb4",
   "metadata": {},
   "outputs": [],
   "source": [
    "#To avoid out of memory errors by setting GPU memory consumption growth\n",
    "gpus=tf.config.experimental.list_physical_devices('GPU')\n",
    "for gpu in gpus:\n",
    "    tf.config.experimental.set_memory_growth(gpu,True)"
   ]
  },
  {
   "cell_type": "markdown",
   "id": "775a44ff",
   "metadata": {},
   "source": [
    "# Pre-processing data"
   ]
  },
  {
   "cell_type": "markdown",
   "id": "42031cb9",
   "metadata": {},
   "source": [
    "## Removing Dodgy Images"
   ]
  },
  {
   "cell_type": "code",
   "execution_count": 4,
   "id": "a3305406",
   "metadata": {},
   "outputs": [],
   "source": [
    "import cv2\n",
    "import imghdr\n",
    "from matplotlib import pyplot as plt"
   ]
  },
  {
   "cell_type": "code",
   "execution_count": 8,
   "id": "8961fdfd",
   "metadata": {},
   "outputs": [],
   "source": [
    "data_dir='Training/Data'"
   ]
  },
  {
   "cell_type": "code",
   "execution_count": 9,
   "id": "9c06c577",
   "metadata": {},
   "outputs": [],
   "source": [
    "# Accepted File Types \n",
    "image_exts=['jpeg','jpg','bmp','png']"
   ]
  },
  {
   "cell_type": "code",
   "execution_count": 10,
   "id": "e23b1626",
   "metadata": {},
   "outputs": [
    {
     "data": {
      "text/plain": [
       "['African Violet',\n",
       " 'Alocasia',\n",
       " 'Aloe Plant',\n",
       " 'Amaryllis',\n",
       " 'Anthurium',\n",
       " 'Peace Lily',\n",
       " 'Ponytail Palm',\n",
       " 'Snake Plant']"
      ]
     },
     "execution_count": 10,
     "metadata": {},
     "output_type": "execute_result"
    }
   ],
   "source": [
    "# Printing out all the data files and the labels will be the name of the files\n",
    "os.listdir(data_dir)"
   ]
  },
  {
   "cell_type": "code",
   "execution_count": null,
   "id": "c6363726",
   "metadata": {},
   "outputs": [],
   "source": []
  }
 ],
 "metadata": {
  "kernelspec": {
   "display_name": "Python 3 (ipykernel)",
   "language": "python",
   "name": "python3"
  },
  "language_info": {
   "codemirror_mode": {
    "name": "ipython",
    "version": 3
   },
   "file_extension": ".py",
   "mimetype": "text/x-python",
   "name": "python",
   "nbconvert_exporter": "python",
   "pygments_lexer": "ipython3",
   "version": "3.9.13"
  }
 },
 "nbformat": 4,
 "nbformat_minor": 5
}
