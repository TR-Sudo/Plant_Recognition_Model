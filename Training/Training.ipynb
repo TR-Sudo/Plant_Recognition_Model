{
 "cells": [
  {
   "cell_type": "markdown",
   "id": "53581779",
   "metadata": {},
   "source": [
    "# Setup and Load Dependencies "
   ]
  },
  {
   "cell_type": "code",
   "execution_count": 2,
   "id": "31219729",
   "metadata": {},
   "outputs": [],
   "source": [
    "import tensorflow as tf\n",
    "import os"
   ]
  },
  {
   "cell_type": "code",
   "execution_count": 3,
   "id": "511a6bb4",
   "metadata": {},
   "outputs": [],
   "source": [
    "#To avoid out of memory errors by setting GPU memory consumption growth\n",
    "gpus=tf.config.experimental.list_physical_devices('GPU')\n",
    "for gpu in gpus:\n",
    "    tf.config.experimental.set_memory_growth(gpu,True)"
   ]
  },
  {
   "cell_type": "markdown",
   "id": "775a44ff",
   "metadata": {},
   "source": [
    "# Pre-processing data"
   ]
  },
  {
   "cell_type": "markdown",
   "id": "42031cb9",
   "metadata": {},
   "source": [
    "## Removing Dodgy Images"
   ]
  },
  {
   "cell_type": "code",
   "execution_count": 8,
   "id": "a3305406",
   "metadata": {},
   "outputs": [],
   "source": [
    "import cv2\n",
    "import imghdr\n",
    "from matplotlib import pyplot as plt"
   ]
  },
  {
   "cell_type": "code",
   "execution_count": 9,
   "id": "8961fdfd",
   "metadata": {},
   "outputs": [],
   "source": [
    "data_dir='Data'"
   ]
  },
  {
   "cell_type": "code",
   "execution_count": 10,
   "id": "9c06c577",
   "metadata": {},
   "outputs": [],
   "source": [
    "# Accepted File Types \n",
    "image_exts=['jpeg','jpg','bmp','png']"
   ]
  },
  {
   "cell_type": "code",
   "execution_count": 11,
   "id": "e23b1626",
   "metadata": {},
   "outputs": [
    {
     "data": {
      "text/plain": [
       "['African Violet',\n",
       " 'Alocasia',\n",
       " 'Aloe Plant',\n",
       " 'Amaryllis',\n",
       " 'Anthurium',\n",
       " 'Peace Lily',\n",
       " 'Ponytail Palm',\n",
       " 'Snake Plant']"
      ]
     },
     "execution_count": 11,
     "metadata": {},
     "output_type": "execute_result"
    }
   ],
   "source": [
    "# Printing out all the data files and the labels will be the name of the files\n",
    "os.listdir(data_dir)"
   ]
  },
  {
   "cell_type": "code",
   "execution_count": 13,
   "id": "c6363726",
   "metadata": {},
   "outputs": [
    {
     "name": "stdout",
     "output_type": "stream",
     "text": [
      "Image not in ext list Data\\African Violet\\african-violet-4-1024x1024.jpg.webp\n",
      "Image not in ext list Data\\African Violet\\african-violet-care-01.jpg\n",
      "Image not in ext list Data\\African Violet\\africanviolets.jpg.webp\n",
      "Image not in ext list Data\\Alocasia\\Alocasia-02.jpg\n",
      "Image not in ext list Data\\Alocasia\\alocasia-amazonica-10-750.jpg\n",
      "Image not in ext list Data\\Alocasia\\alocasia-amazonica-polly-01-1140x761.jpg\n",
      "Image not in ext list Data\\Alocasia\\alocasia-amazonica-polly-03.jpg\n",
      "Image not in ext list Data\\Alocasia\\Alocasia-Black-Velvet-12.jpg.webp\n",
      "Image not in ext list Data\\Alocasia\\alocasia-dragon-scale-5-1512x2016-62c4af446f6cd_l.webp\n",
      "Image not in ext list Data\\Alocasia\\alocasia-varieties-dragon-scale.jpg\n",
      "Image not in ext list Data\\Alocasia\\Alocasia2.jpg\n",
      "Image not in ext list Data\\Aloe Plant\\aloe-vera-1512x2016-6269aed9537bb_l.webp\n",
      "Image not in ext list Data\\Aloe Plant\\ebe1a75fa34928887893917abe2d.webp\n",
      "Image not in ext list Data\\Aloe Plant\\potential-health-benefits-of-aloe-vera-1440x810.jpg\n",
      "Image not in ext list Data\\Aloe Plant\\v4-460px-Revive-a-Dying-Aloe-Vera-Plant-Step-9-Version-3.jpg.webp\n",
      "Image not in ext list Data\\Amaryllis\\1200px-March_lilly_grave_1.JPG.jpg\n",
      "Image not in ext list Data\\Amaryllis\\6-tips-for-growing-amaryllis3.jpg\n",
      "Image not in ext list Data\\Amaryllis\\812e54e6a819663c8241f94e7d74a120470cfc85.webp\n",
      "Image not in ext list Data\\Amaryllis\\amaryllis-collage-2-1024x603.jpg.webp\n",
      "Image not in ext list Data\\Amaryllis\\amaryllis-hippeastrum-05.jpg\n",
      "Image not in ext list Data\\Anthurium\\5b81ffc7-4809-4938-9526-5fe902c0c60c_63b76c5ad70ea.jpg\n",
      "Image not in ext list Data\\Anthurium\\anthurium2.jpg.webp\n",
      "Image not in ext list Data\\Anthurium\\Flamingo-lily-Anthurium-andraeanum-plant.jpg\n",
      "Image not in ext list Data\\Anthurium\\plant_1.webp\n",
      "Image not in ext list Data\\Peace Lily\\6-inch-spathe-peace-lily.jpg\n",
      "Image not in ext list Data\\Peace Lily\\domino-peace-lily-leaf-detail-rotated-e1612312347487.jpg.webp\n",
      "Image not in ext list Data\\Peace Lily\\fcfe059b569aeafa37a2625722e7.webp\n",
      "Image not in ext list Data\\Peace Lily\\gp19.webp\n",
      "Image not in ext list Data\\Peace Lily\\IMG_9974.jpg.webp\n",
      "Image not in ext list Data\\Peace Lily\\peace-lily-plant-scarborough-flower-shop_1.jpg\n",
      "Image not in ext list Data\\Peace Lily\\watermarked_potted_peace_lily_plant_1_1.jpg\n",
      "Image not in ext list Data\\Ponytail Palm\\220px-Pataelefante.jpg\n",
      "Image not in ext list Data\\Ponytail Palm\\4333d8c6-1d93-465d-8dbc-c55592c9e4cb_1.jpg\n",
      "Image not in ext list Data\\Ponytail Palm\\ponytail_frontyard.jpg\n",
      "Image not in ext list Data\\Ponytail Palm\\ponytail_palm_plant_wilbe_bloomin_toronto_1.jpg\n",
      "Image not in ext list Data\\Ponytail Palm\\SitePhotos_Vertical_PonytailPalm.jpg\n",
      "Image not in ext list Data\\Snake Plant\\emerald_snake_plant_wilbe_bloomin_toronto_1.jpg\n",
      "Image not in ext list Data\\Snake Plant\\golden_snake_plant_wilbe_bloomin_toronto_1.jpg\n",
      "Image not in ext list Data\\Snake Plant\\IMG_0414.jpg.webp\n",
      "Image not in ext list Data\\Snake Plant\\Sans-Trifasciata-Snake-Plant-6.jpg.webp\n",
      "Image not in ext list Data\\Snake Plant\\snake-plant-problems-1-683x1024.jpg.webp\n",
      "Image not in ext list Data\\Snake Plant\\snake-plant-problems-1024x563.jpg.webp\n"
     ]
    }
   ],
   "source": [
    "for image_class in os.listdir(data_dir):\n",
    "    for image in os.listdir(os.path.join(data_dir,image_class)):\n",
    "        image_path=os.path.join(data_dir,image_class,image)\n",
    "        try:\n",
    "            img=cv2.imread(image_path)#check if it reads into cv2\n",
    "            tip=imghdr.what(image_path)\n",
    "            if tip not in image_exts:\n",
    "                print('Image not in ext list {}'.format(image_path))\n",
    "                os.remove(image_path)\n",
    "        except Exception as e:\n",
    "            print('Issue with image {}'.format(image_path))"
   ]
  },
  {
   "cell_type": "code",
   "execution_count": 14,
   "id": "ddac41ae",
   "metadata": {},
   "outputs": [],
   "source": [
    "import numpy as np"
   ]
  },
  {
   "cell_type": "code",
   "execution_count": 15,
   "id": "09dca74f",
   "metadata": {},
   "outputs": [
    {
     "name": "stdout",
     "output_type": "stream",
     "text": [
      "Found 1059 files belonging to 8 classes.\n"
     ]
    }
   ],
   "source": [
    "data=tf.keras.utils.image_dataset_from_directory('data')"
   ]
  },
  {
   "cell_type": "code",
   "execution_count": null,
   "id": "4d552cfd",
   "metadata": {},
   "outputs": [],
   "source": []
  }
 ],
 "metadata": {
  "kernelspec": {
   "display_name": "Python 3 (ipykernel)",
   "language": "python",
   "name": "python3"
  },
  "language_info": {
   "codemirror_mode": {
    "name": "ipython",
    "version": 3
   },
   "file_extension": ".py",
   "mimetype": "text/x-python",
   "name": "python",
   "nbconvert_exporter": "python",
   "pygments_lexer": "ipython3",
   "version": "3.9.13"
  }
 },
 "nbformat": 4,
 "nbformat_minor": 5
}
